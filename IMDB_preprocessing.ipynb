{
 "cells": [
  {
   "cell_type": "markdown",
   "id": "b24e36e7",
   "metadata": {},
   "source": [
    "# IMDB Dataset"
   ]
  },
  {
   "cell_type": "markdown",
   "id": "bf5a6d78",
   "metadata": {},
   "source": [
    "A major data set that we used for validating our results the IMDB data set [5] is updated regularly (daily, with only a few exceptions).  The data in this data set was initially in multiple files, we preprocessed the data to be one the table (title and corresponding ratings)."
   ]
  },
  {
   "cell_type": "code",
   "execution_count": 1,
   "id": "da642dc6",
   "metadata": {},
   "outputs": [
    {
     "data": {
      "text/plain": [
       "0                          Карменсіта\n",
       "1                          Carmencita\n",
       "2           Carmencita - spanyol tánc\n",
       "3                          Καρμενσίτα\n",
       "4                          Карменсита\n",
       "                      ...            \n",
       "36361497               Episódio #3.20\n",
       "36361498               Episodio #3.20\n",
       "36361499                 एपिसोड #3.20\n",
       "36361500                     The Wind\n",
       "36361501                     The Wind\n",
       "Name: title, Length: 36361502, dtype: object"
      ]
     },
     "execution_count": 1,
     "metadata": {},
     "output_type": "execute_result"
    }
   ],
   "source": [
    "import pandas as pd\n",
    "\n",
    "# Read the TSV file\n",
    "data = pd.read_csv('data/data.tsv', sep='\\t',usecols=[0,2])\n",
    "\n",
    "# Display the data\n",
    "data['title']"
   ]
  },
  {
   "cell_type": "code",
   "execution_count": 2,
   "id": "d460ac31",
   "metadata": {},
   "outputs": [
    {
     "data": {
      "text/html": [
       "<div>\n",
       "<style scoped>\n",
       "    .dataframe tbody tr th:only-of-type {\n",
       "        vertical-align: middle;\n",
       "    }\n",
       "\n",
       "    .dataframe tbody tr th {\n",
       "        vertical-align: top;\n",
       "    }\n",
       "\n",
       "    .dataframe thead th {\n",
       "        text-align: right;\n",
       "    }\n",
       "</style>\n",
       "<table border=\"1\" class=\"dataframe\">\n",
       "  <thead>\n",
       "    <tr style=\"text-align: right;\">\n",
       "      <th></th>\n",
       "      <th>titleId</th>\n",
       "      <th>title</th>\n",
       "    </tr>\n",
       "  </thead>\n",
       "  <tbody>\n",
       "    <tr>\n",
       "      <th>0</th>\n",
       "      <td>tt0000001</td>\n",
       "      <td>Карменсіта</td>\n",
       "    </tr>\n",
       "    <tr>\n",
       "      <th>1</th>\n",
       "      <td>tt0000001</td>\n",
       "      <td>Carmencita</td>\n",
       "    </tr>\n",
       "    <tr>\n",
       "      <th>2</th>\n",
       "      <td>tt0000001</td>\n",
       "      <td>Carmencita - spanyol tánc</td>\n",
       "    </tr>\n",
       "    <tr>\n",
       "      <th>3</th>\n",
       "      <td>tt0000001</td>\n",
       "      <td>Καρμενσίτα</td>\n",
       "    </tr>\n",
       "    <tr>\n",
       "      <th>4</th>\n",
       "      <td>tt0000001</td>\n",
       "      <td>Карменсита</td>\n",
       "    </tr>\n",
       "  </tbody>\n",
       "</table>\n",
       "</div>"
      ],
      "text/plain": [
       "     titleId                      title\n",
       "0  tt0000001                 Карменсіта\n",
       "1  tt0000001                 Carmencita\n",
       "2  tt0000001  Carmencita - spanyol tánc\n",
       "3  tt0000001                 Καρμενσίτα\n",
       "4  tt0000001                 Карменсита"
      ]
     },
     "execution_count": 2,
     "metadata": {},
     "output_type": "execute_result"
    }
   ],
   "source": [
    "data.head()"
   ]
  },
  {
   "cell_type": "markdown",
   "id": "b6656bb3",
   "metadata": {},
   "source": [
    "There were multiple instances for the same movies due the different languages the movie might be in. Hence, we have decided to remove duplicates and keep only one instance per movie."
   ]
  },
  {
   "cell_type": "code",
   "execution_count": 3,
   "id": "6b0c2323",
   "metadata": {},
   "outputs": [],
   "source": [
    "data.drop_duplicates(subset=['titleId'],inplace=True)"
   ]
  },
  {
   "cell_type": "code",
   "execution_count": 4,
   "id": "32f3af94",
   "metadata": {},
   "outputs": [
    {
     "data": {
      "text/html": [
       "<div>\n",
       "<style scoped>\n",
       "    .dataframe tbody tr th:only-of-type {\n",
       "        vertical-align: middle;\n",
       "    }\n",
       "\n",
       "    .dataframe tbody tr th {\n",
       "        vertical-align: top;\n",
       "    }\n",
       "\n",
       "    .dataframe thead th {\n",
       "        text-align: right;\n",
       "    }\n",
       "</style>\n",
       "<table border=\"1\" class=\"dataframe\">\n",
       "  <thead>\n",
       "    <tr style=\"text-align: right;\">\n",
       "      <th></th>\n",
       "      <th>titleId</th>\n",
       "      <th>title</th>\n",
       "    </tr>\n",
       "  </thead>\n",
       "  <tbody>\n",
       "    <tr>\n",
       "      <th>0</th>\n",
       "      <td>tt0000001</td>\n",
       "      <td>Карменсіта</td>\n",
       "    </tr>\n",
       "    <tr>\n",
       "      <th>8</th>\n",
       "      <td>tt0000002</td>\n",
       "      <td>Le clown et ses chiens</td>\n",
       "    </tr>\n",
       "    <tr>\n",
       "      <th>16</th>\n",
       "      <td>tt0000003</td>\n",
       "      <td>Sarmanul Pierrot</td>\n",
       "    </tr>\n",
       "    <tr>\n",
       "      <th>25</th>\n",
       "      <td>tt0000004</td>\n",
       "      <td>Un bon bock</td>\n",
       "    </tr>\n",
       "    <tr>\n",
       "      <th>33</th>\n",
       "      <td>tt0000005</td>\n",
       "      <td>Blacksmith Scene</td>\n",
       "    </tr>\n",
       "  </tbody>\n",
       "</table>\n",
       "</div>"
      ],
      "text/plain": [
       "      titleId                   title\n",
       "0   tt0000001              Карменсіта\n",
       "8   tt0000002  Le clown et ses chiens\n",
       "16  tt0000003        Sarmanul Pierrot\n",
       "25  tt0000004             Un bon bock\n",
       "33  tt0000005        Blacksmith Scene"
      ]
     },
     "execution_count": 4,
     "metadata": {},
     "output_type": "execute_result"
    }
   ],
   "source": [
    "data.head()"
   ]
  },
  {
   "cell_type": "code",
   "execution_count": 5,
   "id": "7d2c159d",
   "metadata": {},
   "outputs": [
    {
     "name": "stdout",
     "output_type": "stream",
     "text": [
      "<class 'pandas.core.frame.DataFrame'>\n",
      "Int64Index: 7136813 entries, 0 to 36361500\n",
      "Data columns (total 2 columns):\n",
      " #   Column   Dtype \n",
      "---  ------   ----- \n",
      " 0   titleId  object\n",
      " 1   title    object\n",
      "dtypes: object(2)\n",
      "memory usage: 163.3+ MB\n"
     ]
    }
   ],
   "source": [
    "data.info()"
   ]
  },
  {
   "cell_type": "code",
   "execution_count": 6,
   "id": "bb9a04f3",
   "metadata": {},
   "outputs": [
    {
     "data": {
      "text/html": [
       "<div>\n",
       "<style scoped>\n",
       "    .dataframe tbody tr th:only-of-type {\n",
       "        vertical-align: middle;\n",
       "    }\n",
       "\n",
       "    .dataframe tbody tr th {\n",
       "        vertical-align: top;\n",
       "    }\n",
       "\n",
       "    .dataframe thead th {\n",
       "        text-align: right;\n",
       "    }\n",
       "</style>\n",
       "<table border=\"1\" class=\"dataframe\">\n",
       "  <thead>\n",
       "    <tr style=\"text-align: right;\">\n",
       "      <th></th>\n",
       "      <th>tconst</th>\n",
       "      <th>averageRating</th>\n",
       "      <th>numVotes</th>\n",
       "    </tr>\n",
       "  </thead>\n",
       "  <tbody>\n",
       "    <tr>\n",
       "      <th>0</th>\n",
       "      <td>tt0000001</td>\n",
       "      <td>5.7</td>\n",
       "      <td>1982</td>\n",
       "    </tr>\n",
       "    <tr>\n",
       "      <th>1</th>\n",
       "      <td>tt0000002</td>\n",
       "      <td>5.8</td>\n",
       "      <td>265</td>\n",
       "    </tr>\n",
       "    <tr>\n",
       "      <th>2</th>\n",
       "      <td>tt0000003</td>\n",
       "      <td>6.5</td>\n",
       "      <td>1838</td>\n",
       "    </tr>\n",
       "    <tr>\n",
       "      <th>3</th>\n",
       "      <td>tt0000004</td>\n",
       "      <td>5.5</td>\n",
       "      <td>178</td>\n",
       "    </tr>\n",
       "    <tr>\n",
       "      <th>4</th>\n",
       "      <td>tt0000005</td>\n",
       "      <td>6.2</td>\n",
       "      <td>2625</td>\n",
       "    </tr>\n",
       "  </tbody>\n",
       "</table>\n",
       "</div>"
      ],
      "text/plain": [
       "      tconst  averageRating  numVotes\n",
       "0  tt0000001            5.7      1982\n",
       "1  tt0000002            5.8       265\n",
       "2  tt0000003            6.5      1838\n",
       "3  tt0000004            5.5       178\n",
       "4  tt0000005            6.2      2625"
      ]
     },
     "execution_count": 6,
     "metadata": {},
     "output_type": "execute_result"
    }
   ],
   "source": [
    "# Read the TSV file\n",
    "ratings = pd.read_csv('data/ratings.tsv', sep='\\t')\n",
    "\n",
    "# Display the data\n",
    "ratings.head()"
   ]
  },
  {
   "cell_type": "markdown",
   "id": "ca18c8cd",
   "metadata": {},
   "source": [
    "The title of the movies and the rating were in two different tables: we performed a join operation to have a single table with all the needed data."
   ]
  },
  {
   "cell_type": "code",
   "execution_count": 7,
   "id": "6b2d9eb5",
   "metadata": {},
   "outputs": [],
   "source": [
    "data = data.set_index('titleId')\n",
    "ratings = ratings.set_index('tconst')\n",
    "\n",
    "movies = pd.merge(data, ratings, left_on='titleId',right_on='tconst', how='left')"
   ]
  },
  {
   "cell_type": "code",
   "execution_count": 8,
   "id": "4f7687a5",
   "metadata": {},
   "outputs": [
    {
     "data": {
      "text/html": [
       "<div>\n",
       "<style scoped>\n",
       "    .dataframe tbody tr th:only-of-type {\n",
       "        vertical-align: middle;\n",
       "    }\n",
       "\n",
       "    .dataframe tbody tr th {\n",
       "        vertical-align: top;\n",
       "    }\n",
       "\n",
       "    .dataframe thead th {\n",
       "        text-align: right;\n",
       "    }\n",
       "</style>\n",
       "<table border=\"1\" class=\"dataframe\">\n",
       "  <thead>\n",
       "    <tr style=\"text-align: right;\">\n",
       "      <th></th>\n",
       "      <th>title</th>\n",
       "      <th>averageRating</th>\n",
       "      <th>numVotes</th>\n",
       "    </tr>\n",
       "  </thead>\n",
       "  <tbody>\n",
       "    <tr>\n",
       "      <th>0</th>\n",
       "      <td>Карменсіта</td>\n",
       "      <td>5.7</td>\n",
       "      <td>1982.0</td>\n",
       "    </tr>\n",
       "    <tr>\n",
       "      <th>1</th>\n",
       "      <td>Le clown et ses chiens</td>\n",
       "      <td>5.8</td>\n",
       "      <td>265.0</td>\n",
       "    </tr>\n",
       "    <tr>\n",
       "      <th>2</th>\n",
       "      <td>Sarmanul Pierrot</td>\n",
       "      <td>6.5</td>\n",
       "      <td>1838.0</td>\n",
       "    </tr>\n",
       "    <tr>\n",
       "      <th>3</th>\n",
       "      <td>Un bon bock</td>\n",
       "      <td>5.5</td>\n",
       "      <td>178.0</td>\n",
       "    </tr>\n",
       "    <tr>\n",
       "      <th>4</th>\n",
       "      <td>Blacksmith Scene</td>\n",
       "      <td>6.2</td>\n",
       "      <td>2625.0</td>\n",
       "    </tr>\n",
       "  </tbody>\n",
       "</table>\n",
       "</div>"
      ],
      "text/plain": [
       "                    title  averageRating  numVotes\n",
       "0              Карменсіта            5.7    1982.0\n",
       "1  Le clown et ses chiens            5.8     265.0\n",
       "2        Sarmanul Pierrot            6.5    1838.0\n",
       "3             Un bon bock            5.5     178.0\n",
       "4        Blacksmith Scene            6.2    2625.0"
      ]
     },
     "execution_count": 8,
     "metadata": {},
     "output_type": "execute_result"
    }
   ],
   "source": [
    "movies.head()"
   ]
  },
  {
   "cell_type": "markdown",
   "id": "ccb669f9",
   "metadata": {},
   "source": [
    "## Analysis"
   ]
  },
  {
   "cell_type": "markdown",
   "id": "a76140db",
   "metadata": {},
   "source": [
    "The IMBD dataset is huge with average rating varying from 0 to 10. The range with the highest average ratings was between 6 and 8."
   ]
  },
  {
   "cell_type": "code",
   "execution_count": 18,
   "id": "22da54bb",
   "metadata": {},
   "outputs": [
    {
     "data": {
      "text/plain": [
       "array([[<AxesSubplot:title={'center':'averageRating'}>]], dtype=object)"
      ]
     },
     "execution_count": 18,
     "metadata": {},
     "output_type": "execute_result"
    },
    {
     "data": {
      "image/png": "[encoded data removed]",
      "text/plain": [
       "<Figure size 640x480 with 1 Axes>"
      ]
     },
     "metadata": {},
     "output_type": "display_data"
    }
   ],
   "source": [
    "movies[['averageRating']].hist(bins=50)"
   ]
  },
  {
   "cell_type": "markdown",
   "id": "992aaa81",
   "metadata": {},
   "source": [
    "For our project we have only considereded the extreme cases: we classified as negative the movies with a rating less than 4 and as positive movies with rating more than 7."
   ]
  },
  {
   "cell_type": "code",
   "execution_count": 9,
   "id": "8964a003",
   "metadata": {},
   "outputs": [],
   "source": [
    "TargetMovies = movies[(movies['averageRating'] > 7) | (movies['averageRating'] <4)]\n"
   ]
  },
  {
   "cell_type": "code",
   "execution_count": 10,
   "id": "906b81f1",
   "metadata": {},
   "outputs": [
    {
     "data": {
      "text/plain": [
       "38414"
      ]
     },
     "execution_count": 10,
     "metadata": {},
     "output_type": "execute_result"
    }
   ],
   "source": [
    "(TargetMovies['averageRating']<4).sum()"
   ]
  },
  {
   "cell_type": "code",
   "execution_count": 11,
   "id": "f606a3cd",
   "metadata": {},
   "outputs": [
    {
     "data": {
      "text/plain": [
       "474171"
      ]
     },
     "execution_count": 11,
     "metadata": {},
     "output_type": "execute_result"
    }
   ],
   "source": [
    "(TargetMovies['averageRating']>7).sum()"
   ]
  },
  {
   "cell_type": "code",
   "execution_count": 17,
   "id": "91f87c2d",
   "metadata": {},
   "outputs": [
    {
     "data": {
      "text/plain": [
       "array([[<AxesSubplot:title={'center':'averageRating'}>]], dtype=object)"
      ]
     },
     "execution_count": 17,
     "metadata": {},
     "output_type": "execute_result"
    },
    {
     "data": {
      "image/png": "[encoded data removed]",
      "text/plain": [
       "<Figure size 640x480 with 1 Axes>"
      ]
     },
     "metadata": {},
     "output_type": "display_data"
    }
   ],
   "source": [
    "TargetMovies[['averageRating']].hist(bins=50)"
   ]
  },
  {
   "cell_type": "code",
   "execution_count": 12,
   "id": "36dbc414",
   "metadata": {},
   "outputs": [
    {
     "data": {
      "text/plain": [
       "0"
      ]
     },
     "execution_count": 12,
     "metadata": {},
     "output_type": "execute_result"
    }
   ],
   "source": [
    "(TargetMovies['title'] ==\"\").sum()"
   ]
  },
  {
   "cell_type": "code",
   "execution_count": 13,
   "id": "88c34765",
   "metadata": {
    "scrolled": true
   },
   "outputs": [],
   "source": [
    "# Use only targetMovies, fiuther in the code."
   ]
  },
  {
   "cell_type": "code",
   "execution_count": 14,
   "id": "62cb41e9",
   "metadata": {},
   "outputs": [],
   "source": [
    "indices = (TargetMovies['title'].str.contains(\"spiderman\", case=False)).loc[lambda x: x].index\n"
   ]
  },
  {
   "cell_type": "code",
   "execution_count": 15,
   "id": "57ef0105",
   "metadata": {},
   "outputs": [
    {
     "data": {
      "text/html": [
       "<div>\n",
       "<style scoped>\n",
       "    .dataframe tbody tr th:only-of-type {\n",
       "        vertical-align: middle;\n",
       "    }\n",
       "\n",
       "    .dataframe tbody tr th {\n",
       "        vertical-align: top;\n",
       "    }\n",
       "\n",
       "    .dataframe thead th {\n",
       "        text-align: right;\n",
       "    }\n",
       "</style>\n",
       "<table border=\"1\" class=\"dataframe\">\n",
       "  <thead>\n",
       "    <tr style=\"text-align: right;\">\n",
       "      <th></th>\n",
       "      <th>title</th>\n",
       "      <th>averageRating</th>\n",
       "      <th>numVotes</th>\n",
       "    </tr>\n",
       "  </thead>\n",
       "  <tbody>\n",
       "    <tr>\n",
       "      <th>681344</th>\n",
       "      <td>The Origin of Spiderman</td>\n",
       "      <td>7.7</td>\n",
       "      <td>126.0</td>\n",
       "    </tr>\n",
       "    <tr>\n",
       "      <th>690616</th>\n",
       "      <td>Spidermandy/Be A-Fred, Be Very A-Fred</td>\n",
       "      <td>8.2</td>\n",
       "      <td>71.0</td>\n",
       "    </tr>\n",
       "    <tr>\n",
       "      <th>777544</th>\n",
       "      <td>Spectacular Spiderman</td>\n",
       "      <td>8.3</td>\n",
       "      <td>17503.0</td>\n",
       "    </tr>\n",
       "    <tr>\n",
       "      <th>3533004</th>\n",
       "      <td>The Amazing Spiderman 2 Webb Cut</td>\n",
       "      <td>7.8</td>\n",
       "      <td>25.0</td>\n",
       "    </tr>\n",
       "    <tr>\n",
       "      <th>3889182</th>\n",
       "      <td>Superman, Spiderman lub Batman</td>\n",
       "      <td>7.7</td>\n",
       "      <td>387.0</td>\n",
       "    </tr>\n",
       "    <tr>\n",
       "      <th>4545072</th>\n",
       "      <td>Amazing Spiderman Syndrome</td>\n",
       "      <td>9.0</td>\n",
       "      <td>7.0</td>\n",
       "    </tr>\n",
       "    <tr>\n",
       "      <th>4703179</th>\n",
       "      <td>Italian Spiderman</td>\n",
       "      <td>7.9</td>\n",
       "      <td>1134.0</td>\n",
       "    </tr>\n",
       "    <tr>\n",
       "      <th>5904656</th>\n",
       "      <td>Spiderman in Cannes</td>\n",
       "      <td>7.4</td>\n",
       "      <td>32.0</td>\n",
       "    </tr>\n",
       "    <tr>\n",
       "      <th>6375935</th>\n",
       "      <td>Discount Spiderman: Origins</td>\n",
       "      <td>9.4</td>\n",
       "      <td>5.0</td>\n",
       "    </tr>\n",
       "  </tbody>\n",
       "</table>\n",
       "</div>"
      ],
      "text/plain": [
       "                                         title  averageRating  numVotes\n",
       "681344                 The Origin of Spiderman            7.7     126.0\n",
       "690616   Spidermandy/Be A-Fred, Be Very A-Fred            8.2      71.0\n",
       "777544                   Spectacular Spiderman            8.3   17503.0\n",
       "3533004       The Amazing Spiderman 2 Webb Cut            7.8      25.0\n",
       "3889182         Superman, Spiderman lub Batman            7.7     387.0\n",
       "4545072             Amazing Spiderman Syndrome            9.0       7.0\n",
       "4703179                      Italian Spiderman            7.9    1134.0\n",
       "5904656                    Spiderman in Cannes            7.4      32.0\n",
       "6375935            Discount Spiderman: Origins            9.4       5.0"
      ]
     },
     "execution_count": 15,
     "metadata": {},
     "output_type": "execute_result"
    }
   ],
   "source": [
    "TargetMovies.loc[indices]"
   ]
  },
  {
   "cell_type": "code",
   "execution_count": 16,
   "id": "6307af91",
   "metadata": {},
   "outputs": [],
   "source": [
    "#TargetMovies.to_csv('movies.csv')"
   ]
  }
 ],
 "metadata": {
  "kernelspec": {
   "display_name": "Python 3 (ipykernel)",
   "language": "python",
   "name": "python3"
  },
  "language_info": {
   "codemirror_mode": {
    "name": "ipython",
    "version": 3
   },
   "file_extension": ".py",
   "mimetype": "text/x-python",
   "name": "python",
   "nbconvert_exporter": "python",
   "pygments_lexer": "ipython3",
   "version": "3.9.13"
  }
 },
 "nbformat": 4,
 "nbformat_minor": 5
}
